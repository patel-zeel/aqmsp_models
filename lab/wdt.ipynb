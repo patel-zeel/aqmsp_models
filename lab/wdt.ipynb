{
 "cells": [
  {
   "cell_type": "code",
   "execution_count": 1,
   "metadata": {},
   "outputs": [],
   "source": [
    "from selenium import webdriver\n",
    "from selenium.webdriver.chrome.options import Options\n",
    "from selenium.webdriver.common.by import By\n",
    "from selenium.webdriver.support.ui import WebDriverWait\n",
    "from selenium.webdriver.support import expected_conditions as EC\n",
    "from selenium.common.exceptions import TimeoutException\n",
    "\n",
    "from getpass import getpass"
   ]
  },
  {
   "cell_type": "code",
   "execution_count": 2,
   "metadata": {},
   "outputs": [
    {
     "data": {
      "text/plain": [
       "<selenium.webdriver.remote.webelement.WebElement (session=\"723435fdd65c4e5f0e5ea638deb5d4df\", element=\"f.A8D7FAB694B565124E5E865BA73D3733.d.51FC8E48843E07893A9BB281319154D9.e.25\")>"
      ]
     },
     "execution_count": 2,
     "metadata": {},
     "output_type": "execute_result"
    }
   ],
   "source": [
    "# Set options for headless mode\n",
    "chrome_options = Options()\n",
    "chrome_options.add_argument('--headless')  # Runs Chrome in headless mode.\n",
    "\n",
    "# Create a webdriver instance with headless options\n",
    "driver = webdriver.Chrome(options=chrome_options)\n",
    "driver.implicitly_wait(5)\n",
    "driver.set_page_load_timeout(5)\n",
    "driver.set_script_timeout(5)\n",
    "\n",
    "# URL to open\n",
    "url = 'https://internet.iitgn.ac.in'\n",
    "\n",
    "# Open the URL in the headless browser\n",
    "driver.get(url)\n",
    "WebDriverWait(driver, 30).until(EC.presence_of_element_located((By.ID, \"LoginUserPassword_auth_username\")))"
   ]
  },
  {
   "cell_type": "code",
   "execution_count": 5,
   "metadata": {},
   "outputs": [],
   "source": [
    "element = driver.find_element(By.ID, \"LoginUserPassword_auth_username\")\n",
    "element.send_keys(input(\"Enter Username: \"))\n",
    "element = driver.find_element(By.ID, \"LoginUserPassword_auth_password\")\n",
    "element.send_keys(getpass(prompt='Enter your password: '))\n",
    "element = driver.find_element(By.ID, \"UserCheck_Login_Button_span\")\n",
    "element.click()"
   ]
  },
  {
   "cell_type": "markdown",
   "metadata": {},
   "source": [
    "## Verify if internet is working"
   ]
  },
  {
   "cell_type": "code",
   "execution_count": 3,
   "metadata": {},
   "outputs": [
    {
     "name": "stdout",
     "output_type": "stream",
     "text": [
      "Testing if internet is working...\n"
     ]
    },
    {
     "ename": "TimeoutException",
     "evalue": "Message: timeout: Timed out receiving message from renderer: -0.003\n  (Session info: chrome-headless-shell=123.0.6312.58)\nStacktrace:\n#0 0x55e7c67fb8a3 <unknown>\n#1 0x55e7c64f18c6 <unknown>\n#2 0x55e7c64d97a0 <unknown>\n#3 0x55e7c64d9485 <unknown>\n#4 0x55e7c64d7516 <unknown>\n#5 0x55e7c64d7b9f <unknown>\n#6 0x55e7c64e7e65 <unknown>\n#7 0x55e7c64fd64c <unknown>\n#8 0x55e7c6502c2b <unknown>\n#9 0x55e7c64d8222 <unknown>\n#10 0x55e7c64fd3c4 <unknown>\n#11 0x55e7c657cae2 <unknown>\n#12 0x55e7c655e343 <unknown>\n#13 0x55e7c652f593 <unknown>\n#14 0x55e7c652ff5e <unknown>\n#15 0x55e7c67bf88b <unknown>\n#16 0x55e7c67c37e5 <unknown>\n#17 0x55e7c67ad5b1 <unknown>\n#18 0x55e7c67c4372 <unknown>\n#19 0x55e7c67928bf <unknown>\n#20 0x55e7c67ea768 <unknown>\n#21 0x55e7c67ea93b <unknown>\n#22 0x55e7c67fa9f4 <unknown>\n#23 0x7f28a0858609 start_thread\n",
     "output_type": "error",
     "traceback": [
      "\u001b[0;31m---------------------------------------------------------------------------\u001b[0m",
      "\u001b[0;31mTimeoutException\u001b[0m                          Traceback (most recent call last)",
      "Cell \u001b[0;32mIn[3], line 4\u001b[0m\n\u001b[1;32m      2\u001b[0m \u001b[38;5;28mprint\u001b[39m(\u001b[38;5;124m\"\u001b[39m\u001b[38;5;124mTesting if internet is working...\u001b[39m\u001b[38;5;124m\"\u001b[39m)\n\u001b[1;32m      3\u001b[0m url \u001b[38;5;241m=\u001b[39m \u001b[38;5;124m'\u001b[39m\u001b[38;5;124mhttps://www.google.com\u001b[39m\u001b[38;5;124m'\u001b[39m\n\u001b[0;32m----> 4\u001b[0m \u001b[43mdriver\u001b[49m\u001b[38;5;241;43m.\u001b[39;49m\u001b[43mget\u001b[49m\u001b[43m(\u001b[49m\u001b[43murl\u001b[49m\u001b[43m)\u001b[49m\n\u001b[1;32m      5\u001b[0m WebDriverWait(driver, \u001b[38;5;241m5\u001b[39m)\u001b[38;5;241m.\u001b[39muntil(EC\u001b[38;5;241m.\u001b[39mpresence_of_element_located((By\u001b[38;5;241m.\u001b[39mCLASS_NAME, \u001b[38;5;124m\"\u001b[39m\u001b[38;5;124mgLFyf\u001b[39m\u001b[38;5;124m\"\u001b[39m)))\n\u001b[1;32m      6\u001b[0m \u001b[38;5;28mprint\u001b[39m(\u001b[38;5;124m\"\u001b[39m\u001b[38;5;124mLogin Successfull\u001b[39m\u001b[38;5;124m\"\u001b[39m)\n",
      "File \u001b[0;32m~/miniconda3/envs/torch_gpu_py311/lib/python3.11/site-packages/selenium/webdriver/remote/webdriver.py:356\u001b[0m, in \u001b[0;36mWebDriver.get\u001b[0;34m(self, url)\u001b[0m\n\u001b[1;32m    354\u001b[0m \u001b[38;5;28;01mdef\u001b[39;00m \u001b[38;5;21mget\u001b[39m(\u001b[38;5;28mself\u001b[39m, url: \u001b[38;5;28mstr\u001b[39m) \u001b[38;5;241m-\u001b[39m\u001b[38;5;241m>\u001b[39m \u001b[38;5;28;01mNone\u001b[39;00m:\n\u001b[1;32m    355\u001b[0m \u001b[38;5;250m    \u001b[39m\u001b[38;5;124;03m\"\"\"Loads a web page in the current browser session.\"\"\"\u001b[39;00m\n\u001b[0;32m--> 356\u001b[0m     \u001b[38;5;28;43mself\u001b[39;49m\u001b[38;5;241;43m.\u001b[39;49m\u001b[43mexecute\u001b[49m\u001b[43m(\u001b[49m\u001b[43mCommand\u001b[49m\u001b[38;5;241;43m.\u001b[39;49m\u001b[43mGET\u001b[49m\u001b[43m,\u001b[49m\u001b[43m \u001b[49m\u001b[43m{\u001b[49m\u001b[38;5;124;43m\"\u001b[39;49m\u001b[38;5;124;43murl\u001b[39;49m\u001b[38;5;124;43m\"\u001b[39;49m\u001b[43m:\u001b[49m\u001b[43m \u001b[49m\u001b[43murl\u001b[49m\u001b[43m}\u001b[49m\u001b[43m)\u001b[49m\n",
      "File \u001b[0;32m~/miniconda3/envs/torch_gpu_py311/lib/python3.11/site-packages/selenium/webdriver/remote/webdriver.py:347\u001b[0m, in \u001b[0;36mWebDriver.execute\u001b[0;34m(self, driver_command, params)\u001b[0m\n\u001b[1;32m    345\u001b[0m response \u001b[38;5;241m=\u001b[39m \u001b[38;5;28mself\u001b[39m\u001b[38;5;241m.\u001b[39mcommand_executor\u001b[38;5;241m.\u001b[39mexecute(driver_command, params)\n\u001b[1;32m    346\u001b[0m \u001b[38;5;28;01mif\u001b[39;00m response:\n\u001b[0;32m--> 347\u001b[0m     \u001b[38;5;28;43mself\u001b[39;49m\u001b[38;5;241;43m.\u001b[39;49m\u001b[43merror_handler\u001b[49m\u001b[38;5;241;43m.\u001b[39;49m\u001b[43mcheck_response\u001b[49m\u001b[43m(\u001b[49m\u001b[43mresponse\u001b[49m\u001b[43m)\u001b[49m\n\u001b[1;32m    348\u001b[0m     response[\u001b[38;5;124m\"\u001b[39m\u001b[38;5;124mvalue\u001b[39m\u001b[38;5;124m\"\u001b[39m] \u001b[38;5;241m=\u001b[39m \u001b[38;5;28mself\u001b[39m\u001b[38;5;241m.\u001b[39m_unwrap_value(response\u001b[38;5;241m.\u001b[39mget(\u001b[38;5;124m\"\u001b[39m\u001b[38;5;124mvalue\u001b[39m\u001b[38;5;124m\"\u001b[39m, \u001b[38;5;28;01mNone\u001b[39;00m))\n\u001b[1;32m    349\u001b[0m     \u001b[38;5;28;01mreturn\u001b[39;00m response\n",
      "File \u001b[0;32m~/miniconda3/envs/torch_gpu_py311/lib/python3.11/site-packages/selenium/webdriver/remote/errorhandler.py:229\u001b[0m, in \u001b[0;36mErrorHandler.check_response\u001b[0;34m(self, response)\u001b[0m\n\u001b[1;32m    227\u001b[0m         alert_text \u001b[38;5;241m=\u001b[39m value[\u001b[38;5;124m\"\u001b[39m\u001b[38;5;124malert\u001b[39m\u001b[38;5;124m\"\u001b[39m]\u001b[38;5;241m.\u001b[39mget(\u001b[38;5;124m\"\u001b[39m\u001b[38;5;124mtext\u001b[39m\u001b[38;5;124m\"\u001b[39m)\n\u001b[1;32m    228\u001b[0m     \u001b[38;5;28;01mraise\u001b[39;00m exception_class(message, screen, stacktrace, alert_text)  \u001b[38;5;66;03m# type: ignore[call-arg]  # mypy is not smart enough here\u001b[39;00m\n\u001b[0;32m--> 229\u001b[0m \u001b[38;5;28;01mraise\u001b[39;00m exception_class(message, screen, stacktrace)\n",
      "\u001b[0;31mTimeoutException\u001b[0m: Message: timeout: Timed out receiving message from renderer: -0.003\n  (Session info: chrome-headless-shell=123.0.6312.58)\nStacktrace:\n#0 0x55e7c67fb8a3 <unknown>\n#1 0x55e7c64f18c6 <unknown>\n#2 0x55e7c64d97a0 <unknown>\n#3 0x55e7c64d9485 <unknown>\n#4 0x55e7c64d7516 <unknown>\n#5 0x55e7c64d7b9f <unknown>\n#6 0x55e7c64e7e65 <unknown>\n#7 0x55e7c64fd64c <unknown>\n#8 0x55e7c6502c2b <unknown>\n#9 0x55e7c64d8222 <unknown>\n#10 0x55e7c64fd3c4 <unknown>\n#11 0x55e7c657cae2 <unknown>\n#12 0x55e7c655e343 <unknown>\n#13 0x55e7c652f593 <unknown>\n#14 0x55e7c652ff5e <unknown>\n#15 0x55e7c67bf88b <unknown>\n#16 0x55e7c67c37e5 <unknown>\n#17 0x55e7c67ad5b1 <unknown>\n#18 0x55e7c67c4372 <unknown>\n#19 0x55e7c67928bf <unknown>\n#20 0x55e7c67ea768 <unknown>\n#21 0x55e7c67ea93b <unknown>\n#22 0x55e7c67fa9f4 <unknown>\n#23 0x7f28a0858609 start_thread\n"
     ]
    }
   ],
   "source": [
    "# get url till time-out\n",
    "print(\"Login script executed\")\n",
    "print(\"Testing if internet is working...\")\n",
    "try:\n",
    "    url = 'https://www.google.com'\n",
    "    driver.get(url)\n",
    "    WebDriverWait(driver, 5).until(EC.presence_of_element_located((By.CLASS_NAME, \"gLFyf\")))\n",
    "    print(\"Login Successfull\")\n",
    "except TimeoutException:\n",
    "    print(\"Internet check failed\")"
   ]
  },
  {
   "cell_type": "code",
   "execution_count": null,
   "metadata": {},
   "outputs": [],
   "source": []
  }
 ],
 "metadata": {
  "kernelspec": {
   "display_name": "base",
   "language": "python",
   "name": "python3"
  },
  "language_info": {
   "codemirror_mode": {
    "name": "ipython",
    "version": 3
   },
   "file_extension": ".py",
   "mimetype": "text/x-python",
   "name": "python",
   "nbconvert_exporter": "python",
   "pygments_lexer": "ipython3",
   "version": "3.11.5"
  }
 },
 "nbformat": 4,
 "nbformat_minor": 2
}
